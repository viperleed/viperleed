{
 "cells": [
  {
   "cell_type": "code",
   "execution_count": 1,
   "metadata": {},
   "outputs": [],
   "source": [
    "import sys\n",
    "import os\n",
    "import numpy as np\n",
    "import shutil\n",
    "import ase.db\n",
    "import lzma, base64\n",
    "import pickle\n",
    "\n",
    "vpr_path = \"../\"\n",
    "\n",
    "if os.path.abspath(vpr_path) not in sys.path:\n",
    "    sys.path.append(os.path.abspath(vpr_path))\n",
    "\n",
    "import viperleed\n",
    "from viperleed_from_ase import *\n",
    "from viperleed.guilib.decorators import profile_lines, exec_time\n",
    "\n",
    "import os\n",
    "import warnings\n",
    "from pathlib import Path\n",
    "import numpy as np\n",
    "import shutil\n",
    "from io import StringIO\n",
    "\n",
    "import viperleed\n",
    "\n",
    "# for run_from_ase\n",
    "from viperleed.tleedm import run_tleedm\n",
    "from viperleed.tleedmlib import Slab, Rparams\n",
    "from viperleed.tleedmlib.files.poscar import writePOSCAR\n",
    "from viperleed.tleedmlib.files.parameters import readPARAMETERS, interpretPARAMETERS\n",
    "\n",
    "# for rfactor_from_csv\n",
    "from viperleed.tleedmlib.files.beams import readOUTBEAMS\n",
    "from viperleed.tleedmlib.files.iorfactor import beamlist_to_array\n",
    "from viperleed.tleedmlib.wrapped.rfactor import r_factor_new as rf\n",
    "from viperleed.tleedmlib.wrapped.error_codes import error_codes\n",
    "\n",
    "# for plot_iv_from_csv\n",
    "from viperleed.tleedmlib.files.ivplot import plot_iv\n",
    "from typing import Sequence\n",
    "\n",
    "import matplotlib.pyplot as plt\n",
    "%matplotlib widget"
   ]
  },
  {
   "cell_type": "code",
   "execution_count": 2,
   "metadata": {},
   "outputs": [
    {
     "name": "stdout",
     "output_type": "stream",
     "text": [
      "pendry_y_beamset(intensities,deriv_y_func,beams_id_start,beams_n_e,v0i,[n_beams,n_data])\n",
      "\n",
      "Wrapper for ``pendry_y_beamset``.\n",
      "\n",
      "Parameters\n",
      "----------\n",
      "intensities : input rank-2 array('d') with bounds (n_data,n_beams)\n",
      "deriv_y_func : in/output rank-2 array('d') with bounds (n_data,n_beams)\n",
      "beams_id_start : input rank-1 array('i') with bounds (n_beams)\n",
      "beams_n_e : input rank-1 array('i') with bounds (n_beams)\n",
      "v0i : input float\n",
      "\n",
      "Other Parameters\n",
      "----------------\n",
      "n_beams : input int, optional\n",
      "    Default: shape(intensities, 1)\n",
      "n_data : input int, optional\n",
      "    Default: shape(intensities, 0)\n",
      "\n"
     ]
    }
   ],
   "source": [
    "print(rf.pendry_y_beamset.__doc__)"
   ]
  },
  {
   "cell_type": "code",
   "execution_count": 3,
   "metadata": {},
   "outputs": [
    {
     "data": {
      "text/plain": [
       "(0.0, 0.0)"
      ]
     },
     "execution_count": 3,
     "metadata": {},
     "output_type": "execute_result"
    }
   ],
   "source": [
    "beams_file1 = \"test_exec/THEOBEAMS_Ralf.csv\"\n",
    "beams_file2 = \"test_exec/THEOBEAMS_Ralf_appended_row.csv\"\n",
    "with open(beams_file2) as f:\n",
    "    beams_2_str = f.read()\n",
    "with open(beams_file1) as f:\n",
    "    beams_1_str = f.read()\n",
    "\n",
    "V0i = 4.5\n",
    "rfactor_from_csv((\"test_exec/THEOBEAMS.csv\", \"test_exec/THEOBEAMS.csv\"), beams_file_is_content=(False, False), v0i = V0i, v0r_shift_range=[-3, 3], intpol_deg=3, intpol_step=0.5)"
   ]
  },
  {
   "cell_type": "code",
   "execution_count": 5,
   "metadata": {},
   "outputs": [
    {
     "name": "stderr",
     "output_type": "stream",
     "text": [
      "/Users/alexander/Documents/GitHub/viperleed/viperleed_from_ase.py:548: RuntimeWarning: ViPErLEED Fortran warning code -812: At least one numerator or denominator in Pendry R-factor caclulation was NaN.\n",
      "  warnings.warn(\n"
     ]
    },
    {
     "data": {
      "text/plain": [
       "(0.0, 0.0)"
      ]
     },
     "execution_count": 5,
     "metadata": {},
     "output_type": "execute_result"
    }
   ],
   "source": [
    "beams_file1 = \"test_exec/THEOBEAMS_Ralf.csv\"\n",
    "beams_file2 = \"test_exec/THEOBEAMS_Ralf_appended_row.csv\"\n",
    "with open(beams_file2) as f:\n",
    "    beams_2_str = f.read()\n",
    "with open(beams_file1) as f:\n",
    "    beams_1_str = f.read()\n",
    "\n",
    "V0i = 4.5\n",
    "rfactor_from_csv((beams_2_str, beams_2_str), beams_file_is_content=(True, True), v0i = V0i, v0r_shift_range=[-3, 3], intpol_deg=3, intpol_step=0.5)"
   ]
  },
  {
   "cell_type": "code",
   "execution_count": null,
   "metadata": {},
   "outputs": [],
   "source": []
  }
 ],
 "metadata": {
  "interpreter": {
   "hash": "674660b59e67bd8e6d2077e7ddb01d11a7fc4df04d4861dbe626a96d6bdb4a99"
  },
  "kernelspec": {
   "display_name": "Python 3.8.12 ('base')",
   "language": "python",
   "name": "python3"
  },
  "language_info": {
   "codemirror_mode": {
    "name": "ipython",
    "version": 3
   },
   "file_extension": ".py",
   "mimetype": "text/x-python",
   "name": "python",
   "nbconvert_exporter": "python",
   "pygments_lexer": "ipython3",
   "version": "3.8.12"
  },
  "orig_nbformat": 4
 },
 "nbformat": 4,
 "nbformat_minor": 2
}
