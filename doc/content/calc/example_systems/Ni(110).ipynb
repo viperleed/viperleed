{
 "cells": [
  {
   "attachments": {},
   "cell_type": "markdown",
   "metadata": {},
   "source": [
    "(example_Ni(110))=\n",
    "\n",
    "# Example System: Ni(110) using the ASE interface\n",
    "\n",
    "In this example, we demonstrate how to use the ``viperleed.calc`` Python package and its {ref}`interface<aseapi>` to the atomic simulation environment (ASE) package with a Ni(110) surface.\n",
    "\n",
    "The ViPErLEED {term}`API` and ASE interface are most relevant to users interested in high-throughput LEED-*I*(*V*) calculations.\n",
    "We use the example of the Ni(110) surface to showcase how a surface structure can be created, customized in ASE, and then passed to ViPErLEED.\n",
    "In this example, we first create a surface structure for a simple Ni(110)-(1 × 1) bulk termination.\n",
    "We then remove one atom to create a (1 × 2) missing-row reconstruction and pass on both structures to ViPErLEED.\n",
    "\n",
    "We show how to set up a ViPErLEED calculation directly from these ``ase.Atoms`` objects without writing out a {ref}`POSCAR<poscar>` file.\n",
    "This yields theoretical LEED-*I*(*V*) curves, which we can easily visualize and between which we can calculate an {math}`R` factor.\n"
   ]
  },
  {
   "cell_type": "markdown",
   "metadata": {},
   "source": [
    "```{tip}\n",
    "\n",
    "If this is your first time running ViPErLEED, make sure to first follow the {ref}`installation instructions<installation>`.\n",
    "For details on how to execute ViPErLEED on your system, see the {ref}`How to run section<how_to_run>`.\n",
    "\n",
    "For an example on how to run ViPErLEED without the ASE interface see, for instance, {ref}`this tutorial<example_ag_100>`.\n",
    "```"
   ]
  },
  {
   "attachments": {},
   "cell_type": "markdown",
   "metadata": {},
   "source": [
    "This example contains Python code to showcase the ASE interface and ViPErLEED API.\n",
    "To follow along, you can directly copy–paste the Python code into a Python environment.\n",
    "We recommend using a {term}`Jupyter` notebook to directly get visual output."
   ]
  },
  {
   "cell_type": "code",
   "execution_count": null,
   "metadata": {},
   "outputs": [],
   "source": [
    "# ASE imports\n",
    "import ase.build\n",
    "from ase.visualize.plot import plot_atoms\n",
    "\n",
    "# ViPErLEED imports\n",
    "from viperleed.calc.from_ase import SlabTransform\n",
    "from viperleed.calc.from_ase import plot_iv_from_csv\n",
    "from viperleed.calc.from_ase import rfactor_from_csv\n",
    "from viperleed.calc.from_ase import run_from_ase\n",
    "\n",
    "# Prepare matplotlib to produce vector graphics\n",
    "# in jupyter notebooks instead of raster ones.\n",
    "# This seems to be broken as of June 2024 in docutils. The images are rendered\n",
    "# as raster anyway in HTML and not included at all in PDF. The next version of\n",
    "# docutils (0.20.2) may fix this. See\n",
    "# https://sourceforge.net/p/docutils/code/9517/tree//trunk/docutils/HISTORY.txt\n",
    "# However, upgrading is blocked by the dependencies of sphinx-rtd-theme.\n",
    "# See https://github.com/readthedocs/sphinx_rtd_theme/issues/1557\n",
    "# %config InlineBackend.figure_formats = ['svg']\n",
    "\n",
    "# And load pyplot for displaying\n",
    "import matplotlib.pyplot as plt\n",
    "\n",
    "%matplotlib inline"
   ]
  },
  {
   "attachments": {},
   "cell_type": "markdown",
   "metadata": {},
   "source": [
    "## Creating the Ni surfaces\n",
    "\n",
    "The first step is to create the Ni(110) surface structure as an `ase.atoms.Atoms` object.\n",
    "We can use the convenient surface-creations tools contained in the [ase.build module](https://wiki.fysik.dtu.dk/ase/ase/build/surface.html).\n",
    "Since Ni is an {term}`fcc` metal, we can use the ``ase.build.fcc110`` function.\n",
    "ASE will automatically recognize ``'Ni'`` as an element name and use the correct experimental lattice constant for the structure.\n",
    "\n",
    "We first create the bulk-truncated structure with six layers.\n",
    "For our visualization below, we also add 3 Å of vacuum above and below the slab."
   ]
  },
  {
   "cell_type": "code",
   "execution_count": null,
   "metadata": {},
   "outputs": [],
   "source": [
    "element = 'Ni'\n",
    "cell_1x1 = ase.build.fcc110(element, size=(1, 1, 6), vacuum=3)"
   ]
  },
  {
   "cell_type": "markdown",
   "metadata": {},
   "source": [
    "Using the `matplotlib` and the `ase.visualize` modules we can take a look at the `atoms` object:"
   ]
  },
  {
   "cell_type": "code",
   "execution_count": null,
   "metadata": {},
   "outputs": [],
   "source": [
    "def show_slab_along_z_y(atoms):\n",
    "    \"\"\"Return a figure with two views of `atoms` ready for showing.\"\"\"\n",
    "    fig, axarr = plt.subplots(1, 2, figsize=(10, 5))\n",
    "\n",
    "    plot_atoms(atoms, axarr[0], rotation=('0x,0y,0z'))\n",
    "    plot_atoms(atoms, axarr[1], rotation=('-90x,-90y,0z'))\n",
    "\n",
    "    axarr[0].set_title('View along $(\\overline{1}\\overline{1}0)$')\n",
    "    axarr[1].set_title('View along $(1\\overline{1}0)$')\n",
    "\n",
    "    axarr[0].set_xlabel('$(1\\overline{1}0)$, $\\it{x}$ axis (Å)')\n",
    "    axarr[0].set_ylabel('$(001)$, $\\it{y}$ axis (Å)')\n",
    "    axarr[1].set_xlabel('$(001)$, $\\it{y}$ axis (Å)')\n",
    "    axarr[1].set_ylabel('$(110)$, $\\it{z}$ axis (Å)')\n",
    "\n",
    "    return fig"
   ]
  },
  {
   "cell_type": "code",
   "execution_count": null,
   "metadata": {},
   "outputs": [],
   "source": [
    "_ = show_slab_along_z_y(cell_1x1)"
   ]
  },
  {
   "attachments": {},
   "cell_type": "markdown",
   "metadata": {},
   "source": [
    "The Ni atoms are depicted as green spheres and the unit cell (periodic boundary conditions along {math}`x` and {math}`y`) is indicated with a dashed line.\n",
    "The surface is facing upwards, towards larger {math}`z` coordinates, as per {ref}`ViPErLEED convention<conventions>`."
   ]
  },
  {
   "cell_type": "markdown",
   "metadata": {},
   "source": [
    "To create the missing-row reconstruction, we first make a slab with a (1 × 2) supercell and six layers.\n",
    "In the `ase.Atoms` object, the atoms are currently sorted from lowest to highest, which we can double check by listing their positions."
   ]
  },
  {
   "cell_type": "code",
   "execution_count": null,
   "metadata": {},
   "outputs": [],
   "source": [
    "supercell_1x2 = ase.build.fcc110(element, size=(1, 2, 6), vacuum=3)\n",
    "\n",
    "# Show fractional coordinates of Ni atoms\n",
    "supercell_1x2.get_scaled_positions()"
   ]
  },
  {
   "cell_type": "markdown",
   "metadata": {},
   "source": [
    "To create the missing-row reconstruction, we thus need to remove one of the two atoms in the surface layer.\n",
    "We simply duplicate the supercell and create the missing-row reconstruction by removing the last atom:"
   ]
  },
  {
   "cell_type": "code",
   "execution_count": null,
   "metadata": {},
   "outputs": [],
   "source": [
    "missing_row_1x2 = supercell_1x2.copy()\n",
    "del missing_row_1x2[-1]\n",
    "\n",
    "_ = show_slab_along_z_y(supercell_1x2)    # Bulk-truncated (1x2)\n",
    "_ = show_slab_along_z_y(missing_row_1x2)  # Missing-row reconstruction"
   ]
  },
  {
   "attachments": {},
   "cell_type": "markdown",
   "metadata": {},
   "source": [
    "## ViPErLEED Input\n",
    "\n",
    "Now that we have a slab, we can prepare the ViPErLEED calculation. Apart from the input structure, ViPErLEED needs some additional information to run.\n",
    "Multiple {ref}`input files<list_input_files>` should be present in a {ref}`source directory<how_to_run>`. \n",
    "For this example, we create a temporary directory to run the calculation using the [Python tempfile module](https://docs.python.org/3/library/tempfile.html), but you can also use a persistent path."
   ]
  },
  {
   "cell_type": "code",
   "execution_count": null,
   "metadata": {},
   "outputs": [],
   "source": [
    "import tempfile\n",
    "from pathlib import Path\n",
    "\n",
    "bulk_term_dir = Path(tempfile.mkdtemp())\n",
    "missing_row_dir = Path(tempfile.mkdtemp())\n",
    "\n",
    "tempdirs = [bulk_term_dir, missing_row_dir]"
   ]
  },
  {
   "attachments": {},
   "cell_type": "markdown",
   "metadata": {},
   "source": [
    "### Input Files\n",
    "The ViPErLEED ASE interface allows you to specify a separate path (argument ``inputs_path``) from which other input files will be copied.\n",
    "This can be useful, for example, for batch processing of test structures with similar settings."
   ]
  },
  {
   "cell_type": "code",
   "execution_count": null,
   "metadata": {},
   "outputs": [],
   "source": [
    "inputs_path = '../../_static/example_systems/Ni(110)/'"
   ]
  },
  {
   "cell_type": "markdown",
   "metadata": {},
   "source": [
    "In our case, we provide two files in the input directory: {ref}`PARAMETERS<parameters>` and {ref}`IVBEAMS<ivbeams>`."
   ]
  },
  {
   "attachments": {},
   "cell_type": "markdown",
   "metadata": {},
   "source": [
    "#### PARAMETERS\n",
    "\n",
    "As usual, we provide settings using the {ref}`PARAMETERS file<parameters>` (see {numref}`list_ni_parameters`).\n",
    "In the ViPErLEED ASE interface you can use all parameters available in a typical ViPErLEED run.\n",
    "\n",
    "(list_ni_parameters)=\n",
    "```{literalinclude} /_static/example_systems/Ni(110)/PARAMETERS\n",
    "   :language: console\n",
    "   :caption: PARAMETERS file for Ni(110)-(1 × 2).\n",
    "```\n",
    "\n",
    "##### Global Parameters\n",
    "\n",
    "As usual, we chose the reference calculation by setting {ref}`RUN = 1<run>`.\n",
    "We can further specify the energy range to calculate ({ref}`THEO_ENERGIES<theo_energies>`), and the maximum angular-momentum quantum number to use  ({ref}`LMAX<lmax>`).\n",
    "\n",
    "Normally, ViPErLEED would stop execution after the initialization the first time we run with a new structure.\n",
    "This is to allow the user to check the recognized symmetry and the potentially reduced POSCAR file.\n",
    "For this run via the ASE interface we want to avoid this behavior.\n",
    "To do so, we can set {ref}`HALTING = 3<halting>`, which means that ViPErLEED will continue running unless it encounters an error.\n",
    "\n",
    "##### Structure Interpretation\n",
    "\n",
    "We don't have a {ref}`POSCAR file<poscar>`, but we can still use the {ref}`BULK_LIKE_BELOW` parameter to tell ViPErLEED how to distinguish between the surface and the bulk.\n",
    "In this example, we can use the bottom two layers as bulk layers, so we can use a value of 0.42 (compare {math}`z` positions as shown above).\n",
    "\n",
    "The ASE interface also has one more feature that we can use here: By leaving out the {ref}`SITE_DEF<sitedef>` parameter, we tell ViPErLEED to use automatic site detection. See {ref}`here<aseapi_auto_sites>` for more details on how this works.\n",
    "\n",
    "##### VIBROCC Parameters\n",
    "Since we don't provide a {ref}`VIBROCC file<vibrocc>`, we need to specify the {ref}`T_DEBYE<t_debye>` {cite:p}`george1967debyeNi`, {ref}`T_EXPERIMENT<t_experiment>`, and {ref}`VIBR_AMP_SCALE<VIBR_AMP_SCALE>` parameters. The latter is especially important because of automatic site detection: `surf`-labeled sites are created in the background for atoms at the surface.\n"
   ]
  },
  {
   "cell_type": "markdown",
   "metadata": {},
   "source": [
    "#### IVBEAMS\n",
    "\n",
    "Since we want to perform a theory–theory comparison and don't have an {ref}`EXPEBEAMS file<expbeams>`, we also need to provide the {ref}`IVBEAMS<ivbeams>` file, which specifies for which diffraction beams output spectra should be generated.\n",
    "We will use a very simple IVBEAMS with just four beams, shown in {numref}`list_ni_ivbeams`.\n",
    "\n",
    "(list_ni_ivbeams)=\n",
    "```{literalinclude} /_static/example_systems/Ni(110)/IVBEAMS\n",
    "   :language: console\n",
    "   :caption: IVBEAMS file for Ni(110)-(1 × 2).\n",
    "```"
   ]
  },
  {
   "cell_type": "markdown",
   "metadata": {},
   "source": [
    "## Running ViPErLEED"
   ]
  },
  {
   "attachments": {},
   "cell_type": "markdown",
   "metadata": {},
   "source": [
    "We can now start the ViPErLEED calculation using the ``run_from_ase`` function we imported at the top.\n",
    "Using ``exec_path`` we specify the directory where to execute the calculation, and with ``inputs_path`` we provide the directory that contains the input files.\n",
    "The `ase.Atoms` objects is passed via ``ase_object``.\n",
    "Finally, we can specify the ``slab_transforms`` argument. This parameter can be used to apply one or more transformations to the `ase.Atoms` object. These include rotations/mirroring of the coordinate frame to have the surface-normal direction along {math}`z`, and removing atoms below a threshold (as fraction of the {math}`\\mathbf{c}` unit vector). This can be useful if you are starting from a symmetric slab, such as those commonly used in {term}`DFT` calculations. In our case, we want to keep the entire slab, so we simply set ``cut_cell_c_fraction=0``. (We could equally not specify any ``slab_transforms``, as the default is to not apply any processing to the slab.)\n",
    "\n",
    "We use the Jupyter magic command ``%%capture`` to suppress the output of the cell, which would otherwise print out the entire content of the {ref}`ViPErLEED log file<log_files>`."
   ]
  },
  {
   "cell_type": "code",
   "execution_count": null,
   "metadata": {},
   "outputs": [],
   "source": [
    "transform = SlabTransform(cut_cell_c_fraction=0.0)"
   ]
  },
  {
   "cell_type": "code",
   "execution_count": null,
   "metadata": {},
   "outputs": [],
   "source": [
    "%%capture\n",
    "\n",
    "refcalc_results = run_from_ase(\n",
    "    exec_path=bulk_term_dir,\n",
    "    inputs_path=inputs_path,\n",
    "    ase_object=cell_1x1,\n",
    "    slab_transforms=transform,\n",
    "    )\n",
    "\n",
    "theobeams_supercell, *_, v0i_bt = refcalc_results"
   ]
  },
  {
   "cell_type": "markdown",
   "metadata": {},
   "source": [
    "``run_from_ase`` returns four values which we store in ``refcalc_results``.\n",
    "The first three objects are string versions of the contents of the output files {ref}`THEOBEAMS.csv<theobeams>`, {ref}`Complex_amplitudes_real.csv and Complex_amplitudes_imag.csv<complex_amplitudes_csv>`.\n",
    "The last return value is a float number giving the value for the imaginary part of the inner potential, {math}`V_{0\\mathrm{i}}`, used in the calculation.\n",
    "This value could be read from PARAMETERS ({ref}`V0_IMAG<v0_imag>`) and is returned here only for convenience because it is needed for calculating the *R* factor {ref}`later on<sec_ni_rfactor>`."
   ]
  },
  {
   "cell_type": "markdown",
   "metadata": {},
   "source": [
    "We then repeat the same calculation for the supercell with the missing-row reconstruction."
   ]
  },
  {
   "cell_type": "code",
   "execution_count": null,
   "metadata": {},
   "outputs": [],
   "source": [
    "%%capture\n",
    "\n",
    "refcalc_results = run_from_ase(\n",
    "    exec_path=missing_row_dir,\n",
    "    inputs_path=inputs_path,\n",
    "    ase_object=missing_row_1x2,\n",
    "    slab_transforms=transform,\n",
    "    )\n",
    "\n",
    "theobeams_missing_row, *_, v0i_mr = refcalc_results"
   ]
  },
  {
   "cell_type": "markdown",
   "metadata": {},
   "source": [
    "The theoretical spectra are now available for both surfaces in the form of strings:"
   ]
  },
  {
   "cell_type": "code",
   "execution_count": null,
   "metadata": {},
   "outputs": [],
   "source": [
    "first_10_lines = '\\n'.join(theobeams_missing_row.splitlines()[:10])\n",
    "print(first_10_lines)"
   ]
  },
  {
   "attachments": {},
   "cell_type": "markdown",
   "metadata": {},
   "source": [
    "## Plotting the *I*(*V*) curves\n",
    "\n",
    "We can use the ``plot_iv_from_csv`` function to plot the *I*(*V*) curves for both surfaces to visually compare them:"
   ]
  },
  {
   "cell_type": "code",
   "execution_count": null,
   "metadata": {},
   "outputs": [],
   "source": [
    "# Legends for plot\n",
    "legends = (f'{element}(110)-(1 × 1) Bulk Truncated',\n",
    "           f'{element}(110)-(1 × 2) Missing Row')\n",
    "\n",
    "# Call plot_iv_from_csv from ASE interface\n",
    "iv_curves = plot_iv_from_csv(\n",
    "    beam_file=(theobeams_supercell, theobeams_missing_row),\n",
    "    beam_file_is_content=(True, True),\n",
    "    legends=legends,\n",
    "    )"
   ]
  },
  {
   "cell_type": "markdown",
   "metadata": {},
   "source": [
    "(sec_ni_rfactor)=\n",
    "## *R*-factor calculation\n",
    "\n",
    "Finally, we can also easily calculate the *R* factor between the two curves using the ViPErLEED ASE interface using the ``rfactor_from_csv`` function.\n",
    "As input, we provide the two string representations of ``THEOBEAMS.csv``.\n",
    "Additionally, we need to specify the value of {math}`V_{0\\mathrm{i}}` returned by the calculations above, since it factors into the *R* factor (see {ref}`the page<r-factor_calculation>` on *R* factors for details).\n",
    "\n",
    "```{hint}\n",
    "\n",
    "If you want to compare with a stored {ref}`EXPBEAMS<expbeams>` or {ref}`THEOBEAMS<theobeams>` file, you can also provide the path to the file rather than its contents as a string.\n",
    "In that case, you need to set the value of ``beams_file_is_content`` at the corresponding index to ``False``.\n",
    "```"
   ]
  },
  {
   "cell_type": "code",
   "execution_count": null,
   "metadata": {},
   "outputs": [],
   "source": [
    "# Make sure V0i is same in both cases\n",
    "assert v0i_bt == v0i_mr\n",
    "\n",
    "v0i = v0i_bt"
   ]
  },
  {
   "cell_type": "code",
   "execution_count": null,
   "metadata": {},
   "outputs": [],
   "source": [
    "rfactor, v0r = rfactor_from_csv(\n",
    "    beams_files=(theobeams_supercell, theobeams_missing_row),\n",
    "    v0i=v0i,\n",
    "    beams_file_is_content=(True, True),\n",
    "    )\n",
    "\n",
    "print(f'R factor: {rfactor:.4f}, with {v0r:.3f} eV shift')"
   ]
  },
  {
   "cell_type": "markdown",
   "metadata": {},
   "source": [
    "Even though the *I*(*V*) curves look qualitatively similar, they quantitatively differ significantly.\n",
    "The bulk-truncated surface shows some additional peaks [e.g., beams (1|1) and (2|0)], and the position of maxima and minima is slightly different.\n",
    "These differences are reflected in the large value of the Pendry *R* factor, which is especially sensitive to the position of maxima and minima in *I*(*V*) curves. Large *R*-factor values are, of course, expected when comparing two different structures."
   ]
  },
  {
   "cell_type": "markdown",
   "metadata": {},
   "source": [
    "Finally, as a last step, let's not forget to clean up the temporary directories created before:"
   ]
  },
  {
   "cell_type": "code",
   "execution_count": null,
   "metadata": {},
   "outputs": [],
   "source": [
    "import shutil\n",
    "\n",
    "# Remove temporary directories\n",
    "for t_dir in tempdirs:\n",
    "    shutil.rmtree(t_dir)"
   ]
  }
 ],
 "metadata": {
  "kernelspec": {
   "display_name": "viperleed_docs",
   "language": "python",
   "name": "viperleed_docs"
  },
  "language_info": {
   "codemirror_mode": {
    "name": "ipython",
    "version": 3
   },
   "file_extension": ".py",
   "mimetype": "text/x-python",
   "name": "python",
   "nbconvert_exporter": "python",
   "pygments_lexer": "ipython3",
   "version": "3.9.13"
  },
  "vscode": {
   "interpreter": {
    "hash": "30649e971cf90529e5031778c11815f2b5ac0fd4962458bfb30d371e1f16e62b"
   }
  }
 },
 "nbformat": 4,
 "nbformat_minor": 4
}
