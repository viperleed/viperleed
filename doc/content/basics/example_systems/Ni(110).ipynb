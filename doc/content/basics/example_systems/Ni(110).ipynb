{
 "cells": [
  {
   "attachments": {},
   "cell_type": "markdown",
   "metadata": {},
   "source": [
    "(example_Ni(110))=\n",
    "\n",
    "# Example System: Ni(110) using the ASE interface\n",
    "\n",
    "In this example we demonstrate how to use the ViPErLEED Python package {term}`tleedm` and the {ref}`atomic simulation environment (ASE) interface<aseapi>` with the example of a Ni(110) surface.\n",
    "\n",
    "The ViPErLEED API and ASE interface are most relevant to users interested in high-throughput LEED {math}`I(V)` calculations.\n",
    "We use the example of the Ni(110) surface to showcase how a surface structure can be created, customized in ASE and then passed to ViPErLEED.\n",
    "In this example, we first create a surface structures for a simple Ni(110)-{math}`(1\\times1)` bulk termination.\n",
    "We then remove one atom to create a {math}`(1\\times2)` a missing-row reconstruction and pass om both structures to ViPErLEED.\n",
    "\n",
    "We show hot to set up a ViPErLEED calculation directly from these ASE atoms objects without writing out a {ref}`POSCAR<poscar>` file.\n",
    "This yields theoretical LEED {math}`I(V)` curves, which we can easily visualize and between which we can calculate an R-factor.\n"
   ]
  },
  {
   "cell_type": "markdown",
   "metadata": {},
   "source": [
    "```{tip}\n",
    "\n",
    "If this is your first time running ViPErLEED, make sure to first follow the {ref}`installation instructions<installation>`.\n",
    "For details on how to execute ViPErLEED on your system, see the {ref}`How To Run section<how_to_run>`.\n",
    "\n",
    "For an example on how to run ViPErLEED without the ASE interface see e.g. {ref}`this tutorial<example_ag_100>`.\n",
    "```"
   ]
  },
  {
   "attachments": {},
   "cell_type": "markdown",
   "metadata": {},
   "source": [
    "This example contains Python code to showcase the ASE interface and ViPErLEED API.\n",
    "To follow along, you can directly copy/past the Python code into a Python environment.\n",
    "We recommend using a {term}`Jupyter` notebook for this purpose, to directly get visual output."
   ]
  },
  {
   "cell_type": "code",
   "execution_count": null,
   "metadata": {},
   "outputs": [],
   "source": [
    "# ASE imports - TODO: may not need all\n",
    "import ase\n",
    "import ase.build\n",
    "from ase.visualize.plot import plot_atoms\n",
    "import ase.io\n",
    "\n",
    "# @Michele TODO: this mess will change to:\n",
    "# import viperleed\n",
    "# once the package is reorganized...\n",
    "import os\n",
    "import sys\n",
    "vpr_path = \"../../../../../\"\n",
    "if os.path.abspath(vpr_path) not in sys.path:\n",
    "    sys.path.append(os.path.abspath(vpr_path))\n",
    "\n",
    "import viperleed\n",
    "from viperleed.viperleed_from_ase import *\n",
    "import viperleed.tleedmlib.classes.slab\n",
    "from tleedmlib.files.poscar import readPOSCAR\n",
    "\n",
    "import matplotlib.pyplot as plt\n",
    "%matplotlib inline"
   ]
  },
  {
   "attachments": {},
   "cell_type": "markdown",
   "metadata": {},
   "source": [
    "## Creating the Ni surfaces\n",
    "\n",
    "The first step is to create the Ni(110) surface structure as an ASE atoms.atoms object.\n",
    "We can use the convenient surface creations tools contained in the [ase.build module](https://wiki.fysik.dtu.dk/ase/ase/build/surface.html).\n",
    "Since Ni is an {term}`fcc` metal, we can use the ``ase.build.fcc(110)`` method.\n",
    "ASE will automatically recognize ``Ni`` as an element label and use the correct experimental lattice constant for the structure.\n",
    "\n",
    "We first create the bulk-truncated structure with 6 layers.\n",
    "For our visualization below, we also add 3 Å of vacuum above and below the slab."
   ]
  },
  {
   "cell_type": "code",
   "execution_count": null,
   "metadata": {},
   "outputs": [],
   "source": [
    "element = 'Ni'\n",
    "cell_1x1 = ase.build.fcc110(element, size=(1,1,6), vacuum=3)"
   ]
  },
  {
   "cell_type": "markdown",
   "metadata": {},
   "source": [
    "Using the matploib and the ase.visualize module we can take a look at the atoms object:"
   ]
  },
  {
   "cell_type": "code",
   "execution_count": null,
   "metadata": {},
   "outputs": [],
   "source": [
    "def show_slab_along_z_y(atoms):\n",
    "    plt.figure()\n",
    "    fig, axarr = plt.subplots(1, 2, figsize=(10, 5))\n",
    "\n",
    "    plot_atoms(atoms, axarr[0], rotation=('0x,0y,0z'))\n",
    "    plot_atoms(atoms, axarr[1], rotation=('-90x,-90y,0z'))\n",
    "\n",
    "    axarr[0].set_title(\"View along $z$ (towards bulk)\")\n",
    "    axarr[1].set_title(\"View along $y$\")\n",
    "\n",
    "    axarr[0].set_xlabel(\"X-axis, [$\\mathrm{\\AA}$]\")\n",
    "    axarr[0].set_ylabel(\"Y-axis, [$\\mathrm{\\AA}$]\")\n",
    "    axarr[1].set_xlabel(\"Y-axis, [$\\mathrm{\\AA}$]\")\n",
    "    axarr[1].set_ylabel(\"Z-axis, [$\\mathrm{\\AA}$]\")\n",
    "\n",
    "    fig.show()"
   ]
  },
  {
   "cell_type": "code",
   "execution_count": null,
   "metadata": {},
   "outputs": [],
   "source": [
    "show_slab_along_z_y(cell_1x1)"
   ]
  },
  {
   "attachments": {},
   "cell_type": "markdown",
   "metadata": {},
   "source": [
    "The Ni atoms are depicted as green spheres and the unit cell (periodic boundary conditions along {math}`$x$` and {math}`$y$`) is indicated with a dashed line.\n",
    "The surface, as per {ref}`ViPErLEED convention<conventions>` is facing upwards, towards higher {math}`$z$`."
   ]
  },
  {
   "cell_type": "markdown",
   "metadata": {},
   "source": [
    "To create the missing row reconstruction, we first make a slab with a {math}`(1\\times2)` supercell and 6 layers.\n",
    "In the atoms object, the atoms are currently sorted from lowest to highest, which we can double check by listing their positions."
   ]
  },
  {
   "cell_type": "code",
   "execution_count": null,
   "metadata": {},
   "outputs": [],
   "source": [
    "supercell_1x2 = ase.build.fcc110(element, size=(1,2,6), vacuum=3)\n",
    "\n",
    "# show fractional coordinates of Ni atoms\n",
    "supercell_1x2.get_scaled_positions()"
   ]
  },
  {
   "cell_type": "markdown",
   "metadata": {},
   "source": [
    "To create the missing row reconstruction, we thus need to remove one of the two atoms in the surface layer.\n",
    "We simply copy our supercell and create the missing row reconstruction by removing the last atom:"
   ]
  },
  {
   "cell_type": "code",
   "execution_count": null,
   "metadata": {},
   "outputs": [],
   "source": [
    "missing_row_1x2 = supercell_1x2.copy()\n",
    "del missing_row_1x2[11] # index starting from 0\n",
    "\n",
    "show_slab_along_z_y(supercell_1x2) # show the missing row resconstruction\n",
    "show_slab_along_z_y(missing_row_1x2) # show the missing row resconstruction"
   ]
  },
  {
   "attachments": {},
   "cell_type": "markdown",
   "metadata": {},
   "source": [
    "## ViPErLEED Input\n",
    "\n",
    "Now that we have a slab, we can prepare the ViPErLEED calculation.\n",
    "However, ViPErLEED needs some additional information to run, apart from the input structure.\n",
    "We generally need to provide multiple input files in a source directory. \n",
    "For this example, we create a temporary directory to run the calculation ([Python tempfile module](https://docs.python.org/3/library/tempfile.html)), but you can, of course, also use a persistent path."
   ]
  },
  {
   "cell_type": "code",
   "execution_count": null,
   "metadata": {},
   "outputs": [],
   "source": [
    "import tempfile\n",
    "from pathlib import Path\n",
    "\n",
    "bulk_term_dir = Path(tempfile.mkdtemp())\n",
    "missing_row_dir = Path(tempfile.mkdtemp())\n",
    "\n",
    "tempdirs = [bulk_term_dir, missing_row_dir]"
   ]
  },
  {
   "attachments": {},
   "cell_type": "markdown",
   "metadata": {},
   "source": [
    "### Input Files\n",
    "The ViPErLEED ASE interface allows you to specify a separate path (argument ``inputs_path``) from which other input files will be copied.\n",
    "This can be useful for e.g batch processing of test structures with similar settings."
   ]
  },
  {
   "cell_type": "code",
   "execution_count": null,
   "metadata": {},
   "outputs": [],
   "source": [
    "input_path = \"../../../_static/example_systems/Ni(110)/\""
   ]
  },
  {
   "cell_type": "markdown",
   "metadata": {},
   "source": [
    "In our case, we provide two files in the input directory: {ref}`PARAMETERS<parameters>` and `IVBEAMS<ivbeams>`."
   ]
  },
  {
   "attachments": {},
   "cell_type": "markdown",
   "metadata": {},
   "source": [
    "#### PARAMETERS\n",
    "\n",
    "As usual, we provide settings using the {ref}`PARAMETERS file<parameters>`.\n",
    "In the ViPErLEED ASE interface you can use all parameters available in a typical ViPErLEED run.\n",
    "\n",
    "\n",
    "```{literalinclude} /_static/example_systems/Ni(110)/PARAMETERS\n",
    "   :language: console\n",
    "   :caption: PARAMETERS\n",
    "```\n",
    "\n",
    "##### Global Parameters\n",
    "\n",
    "As usual, we chose the reference calculation by setting {ref}`RUN = 1<run>`.\n",
    "We can further specify the energy range to calculate and the maximum angular momentum quantum number to use ({ref}`THEO_ENERGIES<theo_energies>` adn {ref}`LMAX<lmax>`).\n",
    "\n",
    "Normally ViPErLEED would stop execution after the initialization the first time we run with a new structure.\n",
    "This is to allow the user to double-check the recognized symmetry and the potentially reduced POSCAR file.\n",
    "For this run via the ASE interface we want to avoid this behavior.\n",
    "To do so, we can set the {ref}`HALTING parameter = 3<halting>` which means ViPErLEED will not stop unless it encounters a fatal error.\n",
    "\n",
    "##### Structure Interpretation\n",
    "\n",
    "We don't have a {ref}`POSCAR file<poscar>`, but we can still use the {ref}`BULK_LIKE_BELOW` parameter, to tell ViPErLEED how to distinguish between the surface and the bulk.\n",
    "In this example, we can use the bottom two layers as bulk layers, so we can use a value of 0.42 (compare {math}`$z$` positions as shown above).\n",
    "\n",
    "The ASE interface also has one more feature, that we can use here: By leaving out the {SITE_DEF parameter}, we tell ViPErLEED to use the automatic site detection (for details see {ref}`here<aseapi_auto_sites>`).\n",
    "\n",
    "##### VIBROCC Parameters\n",
    "Since we don't provide a {ref}`VIBROCC file<viboccin>`, we need to specify the parameters {ref}`T_DEBYE<t_debye>`, {ref}`T_EXPERIMENT<t_experiment>`, and {ref}`VIBR_AMP_SCALE<VIBR_AMP_SCALE>`.\n"
   ]
  },
  {
   "cell_type": "markdown",
   "metadata": {},
   "source": [
    "#### IVBEAMS\n",
    "\n",
    "Since we want to perform a theory-theory comparison and don't have an {ref}`EXPEBEAMS file<expbeams>`, we also need to provide the file {ref}`IVBEAMS<ivbeams>` which specifies for which diffraction beams to generate output spectra.\n",
    "Here, we use a very simplistic IVBEAMS with just 4 beams:\n",
    "\n",
    "```{literalinclude} /_static/example_systems/Ni(110)/IVBEAMS\n",
    "   :language: console\n",
    "   :caption: IVBEAMS\n",
    "```"
   ]
  },
  {
   "cell_type": "markdown",
   "metadata": {},
   "source": [
    "## Running ViPErLEED"
   ]
  },
  {
   "attachments": {},
   "cell_type": "markdown",
   "metadata": {},
   "source": [
    "We can now start the ViPErLEED calculation using the ``run_from_ase`` function we imported at the top.\n",
    "Using ``exec_path`` we specify the directory where to execute the calculation, and with ``inputs_path`` we provide the directory that contains the input files.\n",
    "The ASE atoms objects is passed via ``ase_object``.\n",
    "Finally, we need to specify a parameter called ``cut_cell_c_fraction``.\n",
    "This parameter can be used to discard part of the cell contained in the ASE atoms object by removing any atoms below the provided {math}`$z$` value (fractional coordinates).\n",
    "This can be useful if you are starting from a symmetric slab, such as commonly used in {term}`DFT` calculations.\n",
    "In our case, we want to keep the entire slab, so we simply set ``cut_cell_c_fraction=0``.\n",
    "\n",
    "We use the Jupyter magic command ``%%capture`` to suppress the output of the cell (which would otherwise print out the entire content of the {ref}`ViPErLEED log file<log_files>`)."
   ]
  },
  {
   "cell_type": "code",
   "execution_count": null,
   "metadata": {},
   "outputs": [],
   "source": [
    "%%capture\n",
    "\n",
    "refcalc_results = run_from_ase(exec_path=bulk_term_dir,\n",
    "             inputs_path=input_path,\n",
    "             ase_object=cell_1x1,\n",
    "             cut_cell_c_fraction=0.0,\n",
    "             )\n",
    "\n",
    "theobeams_supercell, _, _ , v0i_bt = refcalc_results"
   ]
  },
  {
   "cell_type": "markdown",
   "metadata": {},
   "source": [
    "``run_from_ase`` returns 4 values which we store in ``refcalc_results``.\n",
    "The first 3 objects are string representations of the output files {ref}`THEOBEAMS.csv<theobeams>`, {ref}`Complex_amplitudes_real.csv and Complex_amplitudes_imag.csv<complex_amplitudes_csv>`.\n",
    "The last return value is a float number giving the value used in the calculation for the imaginary part of the inner potential {math}`V_{0\\text{i}}`.\n",
    "This value could be read from PARAMETERS ({ref}`V0_IMAG<v0_imag>`) and is returned here only for convenience because it is needed for calculating the R-factor later on."
   ]
  },
  {
   "cell_type": "code",
   "execution_count": null,
   "metadata": {},
   "outputs": [],
   "source": [
    "%%capture\n",
    "\n",
    "refcalc_results = run_from_ase(exec_path=missing_row_dir,\n",
    "             inputs_path=input_path,\n",
    "             ase_object=missing_row_1x2,\n",
    "             cut_cell_c_fraction=0.0,\n",
    "             )\n",
    "\n",
    "theobeams_missing_row, _, _ , v0i_mr = refcalc_results"
   ]
  },
  {
   "cell_type": "markdown",
   "metadata": {},
   "source": [
    "After we repeat the calculation now also for the supercell with the missing row reconstruction, we now have the theoretical spectra for both surfaces in the form of strings:"
   ]
  },
  {
   "cell_type": "code",
   "execution_count": null,
   "metadata": {},
   "outputs": [],
   "source": [
    "first_10_lines = \"\\n\".join(theobeams_missing_row.split('\\n')[:10])\n",
    "print(first_10_lines)"
   ]
  },
  {
   "attachments": {},
   "cell_type": "markdown",
   "metadata": {},
   "source": [
    "## Plotting the I(V) curves\n",
    "\n",
    "We can use the ``plot_iv_from_csv`` function to plot the {math}`$I(V)$` curves for both surfaces to visually compare them:"
   ]
  },
  {
   "cell_type": "code",
   "execution_count": null,
   "metadata": {},
   "outputs": [],
   "source": [
    "# Legends for plot\n",
    "legends = [f\"{element}(110)-($1×1$) Bulk Terminated\", f\"{element}(110)-($1×2$) Missing Row\"]\n",
    "\n",
    "# call plot_iv_from_csv from ASE interface\n",
    "figs = plot_iv_from_csv(beam_file=(theobeams_supercell, theobeams_missing_row),\n",
    "                        beam_file_is_content=(True, True),\n",
    "                        legends=legends)\n",
    "plt.show(figs) # show figure"
   ]
  },
  {
   "cell_type": "markdown",
   "metadata": {},
   "source": [
    "## R-factor calculation\n",
    "\n",
    "Finally, we can also easily calculate the R-factor between the two curves using the ViPErLEED ASE interface using the ``rfactor_from_csv`` function.\n",
    "As input we again need to provide the two string representations of ``THEOBEAMS.csv``.\n",
    "Additionally, we need to specify the value of {math}`V_{0\\text{i}}` we received from the calculation above, since it factors into the R-factor calculation (see {ref}`the page on R-factors<r-factor_calculation>` for details).\n",
    "\n",
    "```{hint}\n",
    "\n",
    "If you want to compare with a stored {ref}`EXPBEAMS<expbeams>` or {ref}`THEOBEAMS<theobeams>` file, you can also provide the file path rather than the string representation.\n",
    "In that case, you need to set the value of ``beams_file_is_content`` at the corresponding index to ``False``.\n",
    "```"
   ]
  },
  {
   "cell_type": "code",
   "execution_count": null,
   "metadata": {},
   "outputs": [],
   "source": [
    "# make sure V0i is same in both cases\n",
    "assert v0i_bt == v0i_mr\n",
    "v0i = v0i_bt"
   ]
  },
  {
   "cell_type": "code",
   "execution_count": null,
   "metadata": {},
   "outputs": [],
   "source": [
    "rfactor, v0r = rfactor_from_csv(beams_files=(theobeams_supercell, theobeams_missing_row),\n",
    "                 v0i=v0i,\n",
    "                 beams_file_is_content=(True, True))\n",
    "\n",
    "print(f\"R-factor: {rfactor:.4f}\")"
   ]
  },
  {
   "cell_type": "markdown",
   "metadata": {},
   "source": [
    "Even though the {math}`I(V)` curves look qualitatively similar, quantitatively they differ significantly which is represented by the large R-factor. This is, of course, to be expected from two different surface reconstructions!"
   ]
  },
  {
   "cell_type": "markdown",
   "metadata": {},
   "source": [
    "Finally, as a last step, let's not forget to clean up the temporary directories created before:"
   ]
  },
  {
   "cell_type": "code",
   "execution_count": null,
   "metadata": {},
   "outputs": [],
   "source": [
    "import shutil\n",
    "#cleanup\n",
    "for t_dir in tempdirs:\n",
    "    shutil.rmtree(t_dir)"
   ]
  },
  {
   "cell_type": "code",
   "execution_count": null,
   "metadata": {},
   "outputs": [],
   "source": []
  }
 ],
 "metadata": {
  "kernelspec": {
   "display_name": "Python 3.8.13 ('viper-dev')",
   "language": "python",
   "name": "python3"
  },
  "language_info": {
   "codemirror_mode": {
    "name": "ipython",
    "version": 3
   },
   "file_extension": ".py",
   "mimetype": "text/x-python",
   "name": "python",
   "nbconvert_exporter": "python",
   "pygments_lexer": "ipython3",
   "version": "3.8.13 | packaged by conda-forge | (default, Mar 25 2022, 06:05:47) \n[Clang 12.0.1 ]"
  },
  "orig_nbformat": 4,
  "vscode": {
   "interpreter": {
    "hash": "30649e971cf90529e5031778c11815f2b5ac0fd4962458bfb30d371e1f16e62b"
   }
  }
 },
 "nbformat": 4,
 "nbformat_minor": 2
}
